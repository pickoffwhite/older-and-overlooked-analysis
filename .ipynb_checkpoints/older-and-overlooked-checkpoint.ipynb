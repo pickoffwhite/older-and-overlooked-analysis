{
 "cells": [
  {
   "cell_type": "code",
   "execution_count": 1,
   "metadata": {},
   "outputs": [],
   "source": [
    "import numpy as np"
   ]
  },
  {
   "cell_type": "code",
   "execution_count": 2,
   "metadata": {},
   "outputs": [],
   "source": [
    "import pandas as pd"
   ]
  },
  {
   "cell_type": "code",
   "execution_count": 3,
   "metadata": {},
   "outputs": [],
   "source": [
    "cdphDeficiency = pd.read_csv('CDPH-DEF.csv')"
   ]
  },
  {
   "cell_type": "code",
   "execution_count": 4,
   "metadata": {},
   "outputs": [],
   "source": [
    "cdssDeficiency = pd.read_csv('CDSS-def.csv')"
   ]
  },
  {
   "cell_type": "code",
   "execution_count": 5,
   "metadata": {},
   "outputs": [],
   "source": [
    "cdphFac = pd.read_csv('cdph-facilities.csv')"
   ]
  },
  {
   "cell_type": "code",
   "execution_count": 6,
   "metadata": {},
   "outputs": [],
   "source": [
    "cdssFac = pd.read_csv('cdss-facilities.csv')"
   ]
  },
  {
   "cell_type": "code",
   "execution_count": 7,
   "metadata": {},
   "outputs": [],
   "source": [
    "snfOutbreaks = pd.read_csv('CA_DETAIL_TABLE_crosstab-8-2-20.csv')"
   ]
  },
  {
   "cell_type": "code",
   "execution_count": 8,
   "metadata": {},
   "outputs": [],
   "source": [
    "snfOutbreaks['Facility Id'] = snfOutbreaks['Facility Id'].apply(lambda x: '{0:0>10}'.format(x))"
   ]
  },
  {
   "cell_type": "code",
   "execution_count": 9,
   "metadata": {},
   "outputs": [],
   "source": [
    "snfOutbreaks['CAFACID'] = 'CA' + snfOutbreaks['Facility Id'].astype(str)"
   ]
  },
  {
   "cell_type": "code",
   "execution_count": 10,
   "metadata": {},
   "outputs": [],
   "source": [
    "cdphFacDef = cdphFac.merge(cdphDeficiency, on='CAFACID', how='left')"
   ]
  },
  {
   "cell_type": "code",
   "execution_count": 11,
   "metadata": {},
   "outputs": [],
   "source": [
    "cdphAll = cdphFacDef.merge(snfOutbreaks, on='CAFACID', how='left')"
   ]
  },
  {
   "cell_type": "code",
   "execution_count": 12,
   "metadata": {},
   "outputs": [
    {
     "name": "stdout",
     "output_type": "stream",
     "text": [
      "<class 'pandas.core.frame.DataFrame'>\n",
      "Int64Index: 23145 entries, 0 to 23144\n",
      "Data columns (total 90 columns):\n",
      " #   Column                         Non-Null Count  Dtype  \n",
      "---  ------                         --------------  -----  \n",
      " 0   FACID                          23145 non-null  int64  \n",
      " 1   CAFACID                        23145 non-null  object \n",
      " 2   NPI                            18219 non-null  object \n",
      " 3   FACNAME                        23145 non-null  object \n",
      " 4   FAC_TYPE_C                     23145 non-null  object \n",
      " 5   FAC_FDR_x                      23145 non-null  object \n",
      " 6   LTC_x                          23145 non-null  object \n",
      " 7   CAPACITY                       23145 non-null  int64  \n",
      " 8   ADDRESS_x                      23145 non-null  object \n",
      " 9   CITY                           23145 non-null  object \n",
      " 10  ZIP                            23145 non-null  int64  \n",
      " 11  ZIP9                           20839 non-null  float64\n",
      " 12  FACADMIN                       20539 non-null  object \n",
      " 13  CONTACT_EM                     19303 non-null  object \n",
      " 14  CONTACT_FA                     20695 non-null  object \n",
      " 15  CONTACT_PH                     22135 non-null  object \n",
      " 16  COUNTY_COD                     23145 non-null  int64  \n",
      " 17  COUNTY_NAM                     23145 non-null  object \n",
      " 18  DISTRICT_N                     23145 non-null  int64  \n",
      " 19  DISTRICT_1                     23145 non-null  object \n",
      " 20  ISFACMAIN                      23145 non-null  object \n",
      " 21  LICENSE_NU                     21997 non-null  float64\n",
      " 22  CA_LICENSE                     1592 non-null   object \n",
      " 23  BUSINESS_N                     21551 non-null  object \n",
      " 24  INITIAL_LI                     19798 non-null  object \n",
      " 25  LICENSE_EF                     21996 non-null  object \n",
      " 26  LICENSE_EX                     21996 non-null  object \n",
      " 27  ENTITY_TYP                     21891 non-null  object \n",
      " 28  LATITUDE                       23145 non-null  float64\n",
      " 29  LONGITUDE                      23145 non-null  float64\n",
      " 30  LOCATION                       23145 non-null  object \n",
      " 31  OSHPD_ID                       15588 non-null  float64\n",
      " 32  STREETNUM                      23145 non-null  object \n",
      " 33  STREETNAME                     23145 non-null  object \n",
      " 34  CCLHO_CODE                     23145 non-null  int64  \n",
      " 35  CCLHO_NAME                     23145 non-null  object \n",
      " 36  FIPS_COUNT                     23145 non-null  int64  \n",
      " 37  BIRTHING_F                     255 non-null    object \n",
      " 38  TRAUMA_PED                     18 non-null     object \n",
      " 39  TRAUMA_CTR                     77 non-null     object \n",
      " 40  TYPE_OF_CA                     1616 non-null   object \n",
      " 41  CRITICAL_A                     35 non-null     object \n",
      " 42  WUICLASS10                     23143 non-null  object \n",
      " 43  HAZ_CLASS                      23143 non-null  object \n",
      " 44  Risk                           23145 non-null  object \n",
      " 45  EVENTID                        13284 non-null  object \n",
      " 46  SURV_DATE                      13284 non-null  object \n",
      " 47  EXIT_DATE                      13284 non-null  object \n",
      " 48  REGCLASS                       13284 non-null  object \n",
      " 49  REG_ID                         13284 non-null  object \n",
      " 50  TAG                            13284 non-null  float64\n",
      " 51  CFR                            13284 non-null  object \n",
      " 52  TITLE                          13284 non-null  object \n",
      " 53  VIOLATION_DETAIL               13284 non-null  object \n",
      " 54  VIOLATION_CATEGORY             13284 non-null  object \n",
      " 55  STATUS                         13284 non-null  float64\n",
      " 56  RELEASE_2567                   13284 non-null  object \n",
      " 57  Surveytype                     13284 non-null  object \n",
      " 58  Severity                       13284 non-null  object \n",
      " 59  scp_sev                        13284 non-null  object \n",
      " 60  CALENDAR_YEAR                  13284 non-null  float64\n",
      " 61  ELMS_FACID                     13284 non-null  float64\n",
      " 62  ASPEN_FACID                    13284 non-null  object \n",
      " 63  CCN                            13277 non-null  object \n",
      " 64  ASPEN_NPI                      12884 non-null  float64\n",
      " 65  NAME                           13284 non-null  object \n",
      " 66  ADDRESS_y                      13284 non-null  object \n",
      " 67  FAC_CITY                       13284 non-null  object \n",
      " 68  FAC_ZIP                        13284 non-null  float64\n",
      " 69  CNTYNAME                       13284 non-null  object \n",
      " 70  FAC_FDR_y                      13284 non-null  object \n",
      " 71  LTC_y                          13284 non-null  object \n",
      " 72  aspen_district_TBL             13284 non-null  object \n",
      " 73  Count of fac violations        13284 non-null  float64\n",
      " 74  list of complaints             13284 non-null  object \n",
      " 75  list of scp_sev                13284 non-null  object \n",
      " 76  All reg_id                     13284 non-null  object \n",
      " 77  E flag                         984 non-null    object \n",
      " 78  County (copy)                  0 non-null      object \n",
      " 79  FACILITY NAME                  0 non-null      object \n",
      " 80  Facility Id                    0 non-null      object \n",
      " 81  COUNTY                         0 non-null      object \n",
      " 82  TODAY POSITIVE RESIDENTS       0 non-null      object \n",
      " 83  CUMULATIVE POSITIVE RESIDENTS  0 non-null      object \n",
      " 84  COVID-RELATED RESIDENT DEATHS  0 non-null      object \n",
      " 85  TODAY POSITIVE HCW             0 non-null      object \n",
      " 86  CUMULATIVE POSITIVE HCW        0 non-null      object \n",
      " 87  COVID-RELATED HCW DEATHS       0 non-null      object \n",
      " 88  Record                         0 non-null      float64\n",
      " 89  Record (copy)                  0 non-null      float64\n",
      "dtypes: float64(14), int64(7), object(69)\n",
      "memory usage: 16.1+ MB\n"
     ]
    }
   ],
   "source": [
    "cdphAll.info()"
   ]
  },
  {
   "cell_type": "markdown",
   "metadata": {},
   "source": [
    "First, adding a null value to CDPH regulated facilities without violations and adding a flag on if there are any. Doing the same for skilled nursing homes with outbreaks."
   ]
  },
  {
   "cell_type": "code",
   "execution_count": 13,
   "metadata": {},
   "outputs": [],
   "source": [
    "cdphAll['Count of fac violations'] = cdphAll['Count of fac violations'].fillna(0)\n",
    "cdphAll['any violations'] = cdphAll.apply(lambda x: True if x['Count of fac violations']>0 else False, axis=1)"
   ]
  },
  {
   "cell_type": "code",
   "execution_count": 14,
   "metadata": {},
   "outputs": [
    {
     "data": {
      "text/plain": [
       "Series([], Name: CUMULATIVE POSITIVE RESIDENTS, dtype: int64)"
      ]
     },
     "execution_count": 14,
     "metadata": {},
     "output_type": "execute_result"
    }
   ],
   "source": [
    "cdphAll['CUMULATIVE POSITIVE RESIDENTS'].value_counts()"
   ]
  },
  {
   "cell_type": "code",
   "execution_count": 15,
   "metadata": {},
   "outputs": [],
   "source": [
    "cdphAll['CUMULATIVE POSITIVE RESIDENTS'] = cdphAll['CUMULATIVE POSITIVE RESIDENTS'].fillna('0')"
   ]
  },
  {
   "cell_type": "code",
   "execution_count": 16,
   "metadata": {},
   "outputs": [],
   "source": [
    "cdphAll['covidres'] = [\"None\" if ele == '0' else \"Some\" for ele in cdphAll['CUMULATIVE POSITIVE RESIDENTS']]"
   ]
  },
  {
   "cell_type": "code",
   "execution_count": 17,
   "metadata": {},
   "outputs": [
    {
     "data": {
      "text/plain": [
       "None    23145\n",
       "Name: covidres, dtype: int64"
      ]
     },
     "execution_count": 17,
     "metadata": {},
     "output_type": "execute_result"
    }
   ],
   "source": [
    "cdphAll.covidres.value_counts()"
   ]
  },
  {
   "cell_type": "code",
   "execution_count": 18,
   "metadata": {},
   "outputs": [
    {
     "data": {
      "text/plain": [
       "covidres\n",
       "None    11901\n",
       "Name: CAFACID, dtype: int64"
      ]
     },
     "execution_count": 18,
     "metadata": {},
     "output_type": "execute_result"
    }
   ],
   "source": [
    "cdphAll.groupby('covidres')['CAFACID'].nunique()"
   ]
  },
  {
   "cell_type": "code",
   "execution_count": 19,
   "metadata": {},
   "outputs": [],
   "source": [
    "cdphAll['CUMULATIVE POSITIVE HCW'] = cdphAll['CUMULATIVE POSITIVE HCW'].fillna('0')"
   ]
  },
  {
   "cell_type": "code",
   "execution_count": 20,
   "metadata": {},
   "outputs": [],
   "source": [
    "cdphAll['covidhcw'] = [\"None\" if ele == '0' else \"Some\" for ele in cdphAll['CUMULATIVE POSITIVE HCW']]"
   ]
  },
  {
   "cell_type": "code",
   "execution_count": 21,
   "metadata": {},
   "outputs": [],
   "source": [
    "cdphAll['covid'] = cdphAll.apply(lambda x: True if x['covidhcw'] == \"Some\" or x['covidres'] == \"Some\" else 'None', axis=1)"
   ]
  },
  {
   "cell_type": "code",
   "execution_count": 22,
   "metadata": {},
   "outputs": [
    {
     "data": {
      "text/plain": [
       "None    23145\n",
       "Name: covid, dtype: int64"
      ]
     },
     "execution_count": 22,
     "metadata": {},
     "output_type": "execute_result"
    }
   ],
   "source": [
    "cdphAll.covid.value_counts()"
   ]
  },
  {
   "cell_type": "code",
   "execution_count": 23,
   "metadata": {},
   "outputs": [],
   "source": [
    "cdph = cdphAll[['CAFACID','FAC_FDR_x','LTC_x','COUNTY_NAM','WUICLASS10','HAZ_CLASS','Risk','Count of fac violations','list of complaints','list of scp_sev','All reg_id','E flag','CUMULATIVE POSITIVE RESIDENTS','CUMULATIVE POSITIVE HCW','any violations','covidres','covidhcw','covid']]"
   ]
  },
  {
   "cell_type": "code",
   "execution_count": 24,
   "metadata": {},
   "outputs": [
    {
     "name": "stdout",
     "output_type": "stream",
     "text": [
      "<class 'pandas.core.frame.DataFrame'>\n",
      "Int64Index: 23145 entries, 0 to 23144\n",
      "Data columns (total 18 columns):\n",
      " #   Column                         Non-Null Count  Dtype  \n",
      "---  ------                         --------------  -----  \n",
      " 0   CAFACID                        23145 non-null  object \n",
      " 1   FAC_FDR_x                      23145 non-null  object \n",
      " 2   LTC_x                          23145 non-null  object \n",
      " 3   COUNTY_NAM                     23145 non-null  object \n",
      " 4   WUICLASS10                     23143 non-null  object \n",
      " 5   HAZ_CLASS                      23143 non-null  object \n",
      " 6   Risk                           23145 non-null  object \n",
      " 7   Count of fac violations        23145 non-null  float64\n",
      " 8   list of complaints             13284 non-null  object \n",
      " 9   list of scp_sev                13284 non-null  object \n",
      " 10  All reg_id                     13284 non-null  object \n",
      " 11  E flag                         984 non-null    object \n",
      " 12  CUMULATIVE POSITIVE RESIDENTS  23145 non-null  object \n",
      " 13  CUMULATIVE POSITIVE HCW        23145 non-null  object \n",
      " 14  any violations                 23145 non-null  bool   \n",
      " 15  covidres                       23145 non-null  object \n",
      " 16  covidhcw                       23145 non-null  object \n",
      " 17  covid                          23145 non-null  object \n",
      "dtypes: bool(1), float64(1), object(16)\n",
      "memory usage: 3.2+ MB\n"
     ]
    }
   ],
   "source": [
    "cdph.info()"
   ]
  },
  {
   "cell_type": "markdown",
   "metadata": {},
   "source": [
    "View only open facilities. "
   ]
  },
  {
   "cell_type": "code",
   "execution_count": 25,
   "metadata": {},
   "outputs": [],
   "source": [
    "cdph_open = cdph.loc[cdph.LTC_x == 'LTC']"
   ]
  },
  {
   "cell_type": "markdown",
   "metadata": {},
   "source": [
    "Filtering to just the types of facilities we're examining: skilled nursing homes, intermediate care and congregate care facilities."
   ]
  },
  {
   "cell_type": "code",
   "execution_count": 26,
   "metadata": {},
   "outputs": [
    {
     "data": {
      "text/plain": [
       "SKILLED NURSING FACILITY                        9398\n",
       "INTERMEDIATE CARE FACILITY-DD/H/N/CN/IID        4167\n",
       "CONGREGATE LIVING HEALTH FACILITY                239\n",
       "INTERMEDIATE CARE FACILITY                        18\n",
       "PEDIATRIC DAY HEALTH & RESPITE CARE FACILITY      18\n",
       "Name: FAC_FDR_x, dtype: int64"
      ]
     },
     "execution_count": 26,
     "metadata": {},
     "output_type": "execute_result"
    }
   ],
   "source": [
    "cdph_open.FAC_FDR_x.value_counts()"
   ]
  },
  {
   "cell_type": "code",
   "execution_count": 27,
   "metadata": {},
   "outputs": [],
   "source": [
    "skilled = cdph_open.FAC_FDR_x == 'SKILLED NURSING FACILITY'\n",
    "inter_care_plus = cdph_open.FAC_FDR_x == 'INTERMEDIATE CARE FACILITY-DD/H/N/CN/IID'\n",
    "inter_care = cdph_open.FAC_FDR_x == 'INTERMEDIATE CARE FACILITY'\n",
    "cong_health = cdph_open.FAC_FDR_x == 'CONGREGATE LIVING HEALTH FACILITY'\n",
    "\n",
    "cdph_open = cdph_open.loc[skilled | inter_care_plus | inter_care | cong_health]"
   ]
  },
  {
   "cell_type": "code",
   "execution_count": 28,
   "metadata": {},
   "outputs": [
    {
     "data": {
      "text/plain": [
       "FAC_FDR_x\n",
       "CONGREGATE LIVING HEALTH FACILITY            239\n",
       "INTERMEDIATE CARE FACILITY                    10\n",
       "INTERMEDIATE CARE FACILITY-DD/H/N/CN/IID    1113\n",
       "SKILLED NURSING FACILITY                    1216\n",
       "Name: CAFACID, dtype: int64"
      ]
     },
     "execution_count": 28,
     "metadata": {},
     "output_type": "execute_result"
    }
   ],
   "source": [
    "cdph_open.groupby('FAC_FDR_x')['CAFACID'].nunique()"
   ]
  },
  {
   "cell_type": "markdown",
   "metadata": {},
   "source": [
    "How many facilities are in risky areas?"
   ]
  },
  {
   "cell_type": "code",
   "execution_count": 29,
   "metadata": {},
   "outputs": [
    {
     "data": {
      "text/plain": [
       "Risk\n",
       "Ok       1818\n",
       "Risky     760\n",
       "Name: CAFACID, dtype: int64"
      ]
     },
     "execution_count": 29,
     "metadata": {},
     "output_type": "execute_result"
    }
   ],
   "source": [
    "cdph_open.groupby('Risk')['CAFACID'].nunique()"
   ]
  },
  {
   "cell_type": "code",
   "execution_count": 30,
   "metadata": {},
   "outputs": [
    {
     "data": {
      "text/html": [
       "<div>\n",
       "<style scoped>\n",
       "    .dataframe tbody tr th:only-of-type {\n",
       "        vertical-align: middle;\n",
       "    }\n",
       "\n",
       "    .dataframe tbody tr th {\n",
       "        vertical-align: top;\n",
       "    }\n",
       "\n",
       "    .dataframe thead th {\n",
       "        text-align: right;\n",
       "    }\n",
       "</style>\n",
       "<table border=\"1\" class=\"dataframe\">\n",
       "  <thead>\n",
       "    <tr style=\"text-align: right;\">\n",
       "      <th></th>\n",
       "      <th></th>\n",
       "      <th>CAFACID</th>\n",
       "    </tr>\n",
       "    <tr>\n",
       "      <th>FAC_FDR_x</th>\n",
       "      <th>Risk</th>\n",
       "      <th></th>\n",
       "    </tr>\n",
       "  </thead>\n",
       "  <tbody>\n",
       "    <tr>\n",
       "      <th rowspan=\"2\" valign=\"top\">CONGREGATE LIVING HEALTH FACILITY</th>\n",
       "      <th>Ok</th>\n",
       "      <td>140</td>\n",
       "    </tr>\n",
       "    <tr>\n",
       "      <th>Risky</th>\n",
       "      <td>99</td>\n",
       "    </tr>\n",
       "    <tr>\n",
       "      <th rowspan=\"2\" valign=\"top\">INTERMEDIATE CARE FACILITY</th>\n",
       "      <th>Ok</th>\n",
       "      <td>6</td>\n",
       "    </tr>\n",
       "    <tr>\n",
       "      <th>Risky</th>\n",
       "      <td>4</td>\n",
       "    </tr>\n",
       "    <tr>\n",
       "      <th rowspan=\"2\" valign=\"top\">INTERMEDIATE CARE FACILITY-DD/H/N/CN/IID</th>\n",
       "      <th>Ok</th>\n",
       "      <td>758</td>\n",
       "    </tr>\n",
       "    <tr>\n",
       "      <th>Risky</th>\n",
       "      <td>355</td>\n",
       "    </tr>\n",
       "    <tr>\n",
       "      <th rowspan=\"2\" valign=\"top\">SKILLED NURSING FACILITY</th>\n",
       "      <th>Ok</th>\n",
       "      <td>914</td>\n",
       "    </tr>\n",
       "    <tr>\n",
       "      <th>Risky</th>\n",
       "      <td>302</td>\n",
       "    </tr>\n",
       "  </tbody>\n",
       "</table>\n",
       "</div>"
      ],
      "text/plain": [
       "                                                CAFACID\n",
       "FAC_FDR_x                                Risk          \n",
       "CONGREGATE LIVING HEALTH FACILITY        Ok         140\n",
       "                                         Risky       99\n",
       "INTERMEDIATE CARE FACILITY               Ok           6\n",
       "                                         Risky        4\n",
       "INTERMEDIATE CARE FACILITY-DD/H/N/CN/IID Ok         758\n",
       "                                         Risky      355\n",
       "SKILLED NURSING FACILITY                 Ok         914\n",
       "                                         Risky      302"
      ]
     },
     "execution_count": 30,
     "metadata": {},
     "output_type": "execute_result"
    }
   ],
   "source": [
    "pd.pivot_table(cdph_open, index=['FAC_FDR_x','Risk'], values=['CAFACID'], aggfunc=pd.Series.nunique)"
   ]
  },
  {
   "cell_type": "code",
   "execution_count": 31,
   "metadata": {},
   "outputs": [],
   "source": [
    "snfandint = cdph_open.loc[skilled | inter_care_plus | inter_care]"
   ]
  },
  {
   "cell_type": "markdown",
   "metadata": {},
   "source": [
    "Did regulators find emergency preparedness or fire deficiencies?"
   ]
  },
  {
   "cell_type": "code",
   "execution_count": 32,
   "metadata": {},
   "outputs": [
    {
     "data": {
      "text/plain": [
       "any violations\n",
       "False     299\n",
       "True     2040\n",
       "Name: CAFACID, dtype: int64"
      ]
     },
     "execution_count": 32,
     "metadata": {},
     "output_type": "execute_result"
    }
   ],
   "source": [
    "snfandint.groupby('any violations')['CAFACID'].nunique()"
   ]
  },
  {
   "cell_type": "code",
   "execution_count": 33,
   "metadata": {},
   "outputs": [
    {
     "data": {
      "text/html": [
       "<div>\n",
       "<style scoped>\n",
       "    .dataframe tbody tr th:only-of-type {\n",
       "        vertical-align: middle;\n",
       "    }\n",
       "\n",
       "    .dataframe tbody tr th {\n",
       "        vertical-align: top;\n",
       "    }\n",
       "\n",
       "    .dataframe thead th {\n",
       "        text-align: right;\n",
       "    }\n",
       "</style>\n",
       "<table border=\"1\" class=\"dataframe\">\n",
       "  <thead>\n",
       "    <tr style=\"text-align: right;\">\n",
       "      <th></th>\n",
       "      <th></th>\n",
       "      <th>CAFACID</th>\n",
       "    </tr>\n",
       "    <tr>\n",
       "      <th>FAC_FDR_x</th>\n",
       "      <th>any violations</th>\n",
       "      <th></th>\n",
       "    </tr>\n",
       "  </thead>\n",
       "  <tbody>\n",
       "    <tr>\n",
       "      <th rowspan=\"2\" valign=\"top\">INTERMEDIATE CARE FACILITY</th>\n",
       "      <th>False</th>\n",
       "      <td>8</td>\n",
       "    </tr>\n",
       "    <tr>\n",
       "      <th>True</th>\n",
       "      <td>2</td>\n",
       "    </tr>\n",
       "    <tr>\n",
       "      <th rowspan=\"2\" valign=\"top\">INTERMEDIATE CARE FACILITY-DD/H/N/CN/IID</th>\n",
       "      <th>False</th>\n",
       "      <td>228</td>\n",
       "    </tr>\n",
       "    <tr>\n",
       "      <th>True</th>\n",
       "      <td>885</td>\n",
       "    </tr>\n",
       "    <tr>\n",
       "      <th rowspan=\"2\" valign=\"top\">SKILLED NURSING FACILITY</th>\n",
       "      <th>False</th>\n",
       "      <td>63</td>\n",
       "    </tr>\n",
       "    <tr>\n",
       "      <th>True</th>\n",
       "      <td>1153</td>\n",
       "    </tr>\n",
       "  </tbody>\n",
       "</table>\n",
       "</div>"
      ],
      "text/plain": [
       "                                                         CAFACID\n",
       "FAC_FDR_x                                any violations         \n",
       "INTERMEDIATE CARE FACILITY               False                 8\n",
       "                                         True                  2\n",
       "INTERMEDIATE CARE FACILITY-DD/H/N/CN/IID False               228\n",
       "                                         True                885\n",
       "SKILLED NURSING FACILITY                 False                63\n",
       "                                         True               1153"
      ]
     },
     "execution_count": 33,
     "metadata": {},
     "output_type": "execute_result"
    }
   ],
   "source": [
    "pd.pivot_table(snfandint, index=['FAC_FDR_x','any violations'], values=['CAFACID'], aggfunc=pd.Series.nunique)"
   ]
  },
  {
   "cell_type": "markdown",
   "metadata": {},
   "source": [
    "How many skilled nursing homes have already had outbreaks?"
   ]
  },
  {
   "cell_type": "code",
   "execution_count": 34,
   "metadata": {},
   "outputs": [],
   "source": [
    "snfalone = cdph_open.loc[skilled]"
   ]
  },
  {
   "cell_type": "code",
   "execution_count": 35,
   "metadata": {},
   "outputs": [
    {
     "data": {
      "text/plain": [
       "None    9398\n",
       "Name: covid, dtype: int64"
      ]
     },
     "execution_count": 35,
     "metadata": {},
     "output_type": "execute_result"
    }
   ],
   "source": [
    "snfalone.covid.value_counts()"
   ]
  },
  {
   "cell_type": "code",
   "execution_count": 36,
   "metadata": {},
   "outputs": [
    {
     "data": {
      "text/html": [
       "<div>\n",
       "<style scoped>\n",
       "    .dataframe tbody tr th:only-of-type {\n",
       "        vertical-align: middle;\n",
       "    }\n",
       "\n",
       "    .dataframe tbody tr th {\n",
       "        vertical-align: top;\n",
       "    }\n",
       "\n",
       "    .dataframe thead th {\n",
       "        text-align: right;\n",
       "    }\n",
       "</style>\n",
       "<table border=\"1\" class=\"dataframe\">\n",
       "  <thead>\n",
       "    <tr style=\"text-align: right;\">\n",
       "      <th></th>\n",
       "      <th></th>\n",
       "      <th>CAFACID</th>\n",
       "    </tr>\n",
       "    <tr>\n",
       "      <th>Risk</th>\n",
       "      <th>covid</th>\n",
       "      <th></th>\n",
       "    </tr>\n",
       "  </thead>\n",
       "  <tbody>\n",
       "    <tr>\n",
       "      <th>Ok</th>\n",
       "      <th>None</th>\n",
       "      <td>914</td>\n",
       "    </tr>\n",
       "    <tr>\n",
       "      <th>Risky</th>\n",
       "      <th>None</th>\n",
       "      <td>302</td>\n",
       "    </tr>\n",
       "  </tbody>\n",
       "</table>\n",
       "</div>"
      ],
      "text/plain": [
       "             CAFACID\n",
       "Risk  covid         \n",
       "Ok    None       914\n",
       "Risky None       302"
      ]
     },
     "execution_count": 36,
     "metadata": {},
     "output_type": "execute_result"
    }
   ],
   "source": [
    "pd.pivot_table(snfalone, index=['Risk','covid'], values=['CAFACID'], aggfunc=pd.Series.nunique)"
   ]
  },
  {
   "cell_type": "markdown",
   "metadata": {},
   "source": [
    "Let's examine residential care facilities regulated by CDSS."
   ]
  },
  {
   "cell_type": "code",
   "execution_count": 37,
   "metadata": {},
   "outputs": [],
   "source": [
    "cdssFacDef = cdssFac.merge(cdssDeficiency, on='Facility Number', how='left') "
   ]
  },
  {
   "cell_type": "code",
   "execution_count": 38,
   "metadata": {},
   "outputs": [],
   "source": [
    "cdssFacDef['General section'] = cdssFacDef['General section'].fillna('None')"
   ]
  },
  {
   "cell_type": "code",
   "execution_count": 39,
   "metadata": {},
   "outputs": [],
   "source": [
    "cdssFacDef['deficient'] = [\"None\" if ele == 'None' else \"Some\" for ele in cdssFacDef['General section']]"
   ]
  },
  {
   "cell_type": "markdown",
   "metadata": {},
   "source": [
    "We only want facilities that are currently in operation."
   ]
  },
  {
   "cell_type": "code",
   "execution_count": 40,
   "metadata": {},
   "outputs": [],
   "source": [
    "licensed = cdssFacDef['Facility Status'] == 'LICENSED'\n",
    "probation = cdssFacDef['Facility Status'] == 'ON PROBATION'\n",
    "\n",
    "cdss_open = cdssFacDef.loc[licensed | probation]"
   ]
  },
  {
   "cell_type": "code",
   "execution_count": 41,
   "metadata": {},
   "outputs": [
    {
     "data": {
      "text/plain": [
       "LICENSED        7543\n",
       "ON PROBATION      41\n",
       "Name: Facility Status, dtype: int64"
      ]
     },
     "execution_count": 41,
     "metadata": {},
     "output_type": "execute_result"
    }
   ],
   "source": [
    "cdss_open['Facility Status'].value_counts()"
   ]
  },
  {
   "cell_type": "code",
   "execution_count": 42,
   "metadata": {},
   "outputs": [
    {
     "data": {
      "text/plain": [
       "RESIDENTIAL CARE ELDERLY                     7477\n",
       "RCFE-CONTINUING CARE RETIREMENT COMMUNITY     107\n",
       "Name: Facility Type_x, dtype: int64"
      ]
     },
     "execution_count": 42,
     "metadata": {},
     "output_type": "execute_result"
    }
   ],
   "source": [
    "cdss_open['Facility Type_x'].value_counts()"
   ]
  },
  {
   "cell_type": "code",
   "execution_count": 43,
   "metadata": {},
   "outputs": [
    {
     "data": {
      "text/plain": [
       "deficient\n",
       "None    6876\n",
       "Some     605\n",
       "Name: Facility Number, dtype: int64"
      ]
     },
     "execution_count": 43,
     "metadata": {},
     "output_type": "execute_result"
    }
   ],
   "source": [
    "cdss_open.groupby('deficient')['Facility Number'].nunique()"
   ]
  },
  {
   "cell_type": "code",
   "execution_count": 44,
   "metadata": {},
   "outputs": [
    {
     "data": {
      "text/plain": [
       "Ok       4809\n",
       "Risky    2775\n",
       "Name: Risk, dtype: int64"
      ]
     },
     "execution_count": 44,
     "metadata": {},
     "output_type": "execute_result"
    }
   ],
   "source": [
    "cdss_open['Risk'].value_counts()"
   ]
  },
  {
   "cell_type": "code",
   "execution_count": 45,
   "metadata": {},
   "outputs": [
    {
     "data": {
      "text/html": [
       "<div>\n",
       "<style scoped>\n",
       "    .dataframe tbody tr th:only-of-type {\n",
       "        vertical-align: middle;\n",
       "    }\n",
       "\n",
       "    .dataframe tbody tr th {\n",
       "        vertical-align: top;\n",
       "    }\n",
       "\n",
       "    .dataframe thead th {\n",
       "        text-align: right;\n",
       "    }\n",
       "</style>\n",
       "<table border=\"1\" class=\"dataframe\">\n",
       "  <thead>\n",
       "    <tr style=\"text-align: right;\">\n",
       "      <th></th>\n",
       "      <th></th>\n",
       "      <th>Facility Number</th>\n",
       "    </tr>\n",
       "    <tr>\n",
       "      <th>deficient</th>\n",
       "      <th>Risk</th>\n",
       "      <th></th>\n",
       "    </tr>\n",
       "  </thead>\n",
       "  <tbody>\n",
       "    <tr>\n",
       "      <th rowspan=\"2\" valign=\"top\">None</th>\n",
       "      <th>Ok</th>\n",
       "      <td>4416</td>\n",
       "    </tr>\n",
       "    <tr>\n",
       "      <th>Risky</th>\n",
       "      <td>2460</td>\n",
       "    </tr>\n",
       "    <tr>\n",
       "      <th rowspan=\"2\" valign=\"top\">Some</th>\n",
       "      <th>Ok</th>\n",
       "      <td>330</td>\n",
       "    </tr>\n",
       "    <tr>\n",
       "      <th>Risky</th>\n",
       "      <td>275</td>\n",
       "    </tr>\n",
       "  </tbody>\n",
       "</table>\n",
       "</div>"
      ],
      "text/plain": [
       "                 Facility Number\n",
       "deficient Risk                  \n",
       "None      Ok                4416\n",
       "          Risky             2460\n",
       "Some      Ok                 330\n",
       "          Risky              275"
      ]
     },
     "execution_count": 45,
     "metadata": {},
     "output_type": "execute_result"
    }
   ],
   "source": [
    "pd.pivot_table(cdss_open, index=['deficient','Risk'], values=['Facility Number'], aggfunc=pd.Series.nunique)"
   ]
  }
 ],
 "metadata": {
  "kernelspec": {
   "display_name": "Python 3",
   "language": "python",
   "name": "python3"
  },
  "language_info": {
   "codemirror_mode": {
    "name": "ipython",
    "version": 3
   },
   "file_extension": ".py",
   "mimetype": "text/x-python",
   "name": "python",
   "nbconvert_exporter": "python",
   "pygments_lexer": "ipython3",
   "version": "3.7.4"
  }
 },
 "nbformat": 4,
 "nbformat_minor": 4
}
